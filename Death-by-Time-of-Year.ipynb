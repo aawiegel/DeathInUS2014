{
 "cells": [
  {
   "cell_type": "markdown",
   "metadata": {},
   "source": [
    "## Overview\n",
    "\n",
    "This notebook explores death by time of year using the 2014 CDC mortality dataset found on [Kaggle](https://www.kaggle.com/cdc/mortality)."
   ]
  },
  {
   "cell_type": "code",
   "execution_count": 1,
   "metadata": {
    "collapsed": true
   },
   "outputs": [],
   "source": [
    "# import relevant libraries\n",
    "\n",
    "import numpy as np\n",
    "import pandas as pd\n",
    "import matplotlib as mpl\n",
    "import matplotlib.pyplot as plt\n",
    "import seaborn as sns\n",
    "import sqlalchemy as sqla"
   ]
  },
  {
   "cell_type": "code",
   "execution_count": 3,
   "metadata": {
    "collapsed": false,
    "scrolled": false
   },
   "outputs": [],
   "source": [
    "# Connect to SQLite database found in data/database.sqlite\n",
    "\n",
    "metadata = sqla.MetaData()\n",
    "\n",
    "engine =  sqla.create_engine(\"sqlite:///data/database.sqlite\")\n",
    "\n",
    "table_names = engine.table_names()\n",
    "\n",
    "tables = dict()\n",
    "\n",
    "for table in table_names:\n",
    "    tables[table] = sqla.Table(table, metadata, autoload=True, autoload_with=engine)"
   ]
  },
  {
   "cell_type": "code",
   "execution_count": 16,
   "metadata": {
    "collapsed": false
   },
   "outputs": [
    {
     "name": "stdout",
     "output_type": "stream",
     "text": [
      "SELECT \"DeathRecords\".\"MonthOfDeath\", count(\"DeathRecords\".\"MonthOfDeath\") AS \"Number of Deaths\" \n",
      "FROM \"DeathRecords\" GROUP BY \"DeathRecords\".\"MonthOfDeath\"\n"
     ]
    },
    {
     "data": {
      "text/plain": [
       "<matplotlib.text.Text at 0x15a8e6d8198>"
      ]
     },
     "execution_count": 16,
     "metadata": {},
     "output_type": "execute_result"
    },
    {
     "data": {
      "image/png": "[encoded data removed]",
      "text/plain": [
       "<matplotlib.figure.Figure at 0x15a8e4a6470>"
      ]
     },
     "metadata": {},
     "output_type": "display_data"
    }
   ],
   "source": [
    "%matplotlib inline\n",
    "\n",
    "# Connect to engine\n",
    "\n",
    "conn = engine.connect()\n",
    "\n",
    "# Generate statement\n",
    "stmt = sqla.select([tables[\"DeathRecords\"].columns.MonthOfDeath, \n",
    "                    sqla.func.count(tables[\"DeathRecords\"].columns.MonthOfDeath).label('Number of Deaths')])\n",
    "\n",
    "stmt = stmt.group_by(tables[\"DeathRecords\"].columns.MonthOfDeath)\n",
    "\n",
    "print(stmt)\n",
    "\n",
    "count = pd.read_sql_query(stmt, conn)\n",
    "\n",
    "count.plot(x = 'MonthOfDeath', y = 'Number of Deaths', kind = 'bar')\n",
    "plt.xlabel(\"Month of Death\")\n",
    "plt.ylabel(\"Number of Deaths\")"
   ]
  },
  {
   "cell_type": "code",
   "execution_count": null,
   "metadata": {
    "collapsed": true
   },
   "outputs": [],
   "source": []
  }
 ],
 "metadata": {
  "kernelspec": {
   "display_name": "Python 3",
   "language": "python",
   "name": "python3"
  },
  "language_info": {
   "codemirror_mode": {
    "name": "ipython",
    "version": 3
   },
   "file_extension": ".py",
   "mimetype": "text/x-python",
   "name": "python",
   "nbconvert_exporter": "python",
   "pygments_lexer": "ipython3",
   "version": "3.6.0"
  }
 },
 "nbformat": 4,
 "nbformat_minor": 2
}
