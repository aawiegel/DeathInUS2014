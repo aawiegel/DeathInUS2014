{
 "cells": [
  {
   "cell_type": "markdown",
   "metadata": {},
   "source": [
    "## Overview\n",
    "\n",
    "This notebook explores death by time of year using the 2014 CDC mortality dataset found on [Kaggle](https://www.kaggle.com/cdc/mortality). Initially, deaths by month of the year and by manner of death are explored."
   ]
  },
  {
   "cell_type": "code",
   "execution_count": 1,
   "metadata": {
    "collapsed": true
   },
   "outputs": [],
   "source": [
    "# import relevant libraries\n",
    "\n",
    "import numpy as np\n",
    "import pandas as pd\n",
    "import matplotlib as mpl\n",
    "import matplotlib.pyplot as plt\n",
    "import seaborn as sns\n",
    "import sqlalchemy as sqla"
   ]
  },
  {
   "cell_type": "code",
   "execution_count": 2,
   "metadata": {
    "collapsed": false,
    "scrolled": false
   },
   "outputs": [],
   "source": [
    "# Connect to SQLite database found in data/database.sqlite\n",
    "\n",
    "metadata = sqla.MetaData()\n",
    "\n",
    "engine =  sqla.create_engine(\"sqlite:///data/database.sqlite\")\n",
    "\n",
    "table_names = engine.table_names()\n",
    "\n",
    "tables = dict()\n",
    "\n",
    "for table in table_names:\n",
    "    tables[table] = sqla.Table(table, metadata, autoload=True, autoload_with=engine)"
   ]
  },
  {
   "cell_type": "code",
   "execution_count": 3,
   "metadata": {
    "collapsed": false
   },
   "outputs": [
    {
     "name": "stdout",
     "output_type": "stream",
     "text": [
      "count        12.00000\n",
      "mean     219264.25000\n",
      "std       13344.62626\n",
      "min      205058.00000\n",
      "25%      209417.50000\n",
      "50%      216599.50000\n",
      "75%      223523.00000\n",
      "max      243839.00000\n",
      "Name: Number of Deaths, dtype: float64\n"
     ]
    },
    {
     "data": {
      "text/plain": [
       "<matplotlib.text.Text at 0x21075fbd908>"
      ]
     },
     "execution_count": 3,
     "metadata": {},
     "output_type": "execute_result"
    },
    {
     "data": {
      "image/png": "[encoded data removed]",
      "text/plain": [
       "<matplotlib.figure.Figure at 0x21074e49518>"
      ]
     },
     "metadata": {},
     "output_type": "display_data"
    }
   ],
   "source": [
    "%matplotlib inline\n",
    "\n",
    "# Connect to engine\n",
    "\n",
    "conn = engine.connect()\n",
    "\n",
    "# Generate statement\n",
    "stmt = sqla.select([tables[\"DeathRecords\"].columns.MonthOfDeath, \n",
    "                    sqla.func.count(tables[\"DeathRecords\"].columns.MonthOfDeath).label('Number of Deaths')])\n",
    "\n",
    "stmt = stmt.group_by(tables[\"DeathRecords\"].columns.MonthOfDeath)\n",
    "\n",
    "count = pd.read_sql_query(stmt, conn)\n",
    "\n",
    "print(count['Number of Deaths'].describe())\n",
    "\n",
    "count.plot(x = 'MonthOfDeath', y = 'Number of Deaths', kind = 'bar', legend=False)\n",
    "plt.xlabel(\"Month of Death\")\n",
    "plt.ylabel(\"Number of Deaths\")"
   ]
  },
  {
   "cell_type": "markdown",
   "metadata": {
    "collapsed": true
   },
   "source": [
    "The graph shown here suggests that the number of deaths is highest in December (12) and January (1), perhaps due to suicides from seasonal affective disorder or the stress of the holidays. To see if this might be the case, we query the database again except this time counting each manner of death."
   ]
  },
  {
   "cell_type": "code",
   "execution_count": 4,
   "metadata": {
    "collapsed": false
   },
   "outputs": [
    {
     "data": {
      "text/plain": [
       "(0, 425000)"
      ]
     },
     "execution_count": 4,
     "metadata": {},
     "output_type": "execute_result"
    },
    {
     "data": {
      "image/png": "[encoded data removed]",
      "text/plain": [
       "<matplotlib.figure.Figure at 0x21070f3ceb8>"
      ]
     },
     "metadata": {},
     "output_type": "display_data"
    }
   ],
   "source": [
    "%matplotlib inline\n",
    "# Generate new SQL query using a JOIN\n",
    "\n",
    "# Create initial select query\n",
    "stmt = sqla.select([\n",
    "    tables[\"DeathRecords\"].c.MonthOfDeath.label('Month'),\n",
    "    sqla.func.count(tables[\"DeathRecords\"].c.MannerOfDeath).label('Number'),\n",
    "    tables[\"MannerOfDeath\"].c.Description.label('Manner')\n",
    "])\n",
    "\n",
    "# Create select from with JOIN statment\n",
    "\n",
    "stmt = stmt.select_from(\n",
    "    tables[\"DeathRecords\"].join(tables[\"MannerOfDeath\"], \n",
    "                               tables[\"DeathRecords\"].c.MannerOfDeath == tables[\"MannerOfDeath\"].c.Code)\n",
    ")\n",
    "\n",
    "# Group by Month and Manner of Death\n",
    "\n",
    "stmt = stmt.group_by(tables[\"DeathRecords\"].c.MonthOfDeath,\n",
    "                    tables[\"MannerOfDeath\"].c.Description)\n",
    "\n",
    "count = pd.read_sql_query(stmt, conn)\n",
    "\n",
    "count_grouped = count.groupby(['Month', 'Manner'])['Number'].sum().unstack('Manner')\n",
    "\n",
    "fig, ax = plt.subplots(1)\n",
    "\n",
    "count_grouped.plot.bar(stacked=True, ax = ax)\n",
    "\n",
    "ax.legend(loc='best')\n",
    "ax.set_ylim([0, 425000])"
   ]
  },
  {
   "cell_type": "markdown",
   "metadata": {},
   "source": [
    "Most of the deaths in any given month are from natural causes, so suicides may not be the cause of the observed seasonal pattern. To confirm, we plot both suicides and natural causes in separate plots."
   ]
  },
  {
   "cell_type": "code",
   "execution_count": 5,
   "metadata": {
    "collapsed": false
   },
   "outputs": [
    {
     "data": {
      "text/plain": [
       "<matplotlib.text.Text at 0x21076645ef0>"
      ]
     },
     "execution_count": 5,
     "metadata": {},
     "output_type": "execute_result"
    },
    {
     "data": {
      "image/png": "[encoded data removed]",
      "text/plain": [
       "<matplotlib.figure.Figure at 0x21074e5ba20>"
      ]
     },
     "metadata": {},
     "output_type": "display_data"
    },
    {
     "data": {
      "image/png": "[encoded data removed]",
      "text/plain": [
       "<matplotlib.figure.Figure at 0x210762bbc50>"
      ]
     },
     "metadata": {},
     "output_type": "display_data"
    }
   ],
   "source": [
    "%matplotlib inline\n",
    "\n",
    "\n",
    "_ = count[count['Manner'] == 'Suicide'].plot.bar(x = 'Month', legend=False)\n",
    "_.set_ylabel(\"Suicides\")\n",
    "\n",
    "_ = count[count['Manner'] == 'Natural'].plot.bar(x = 'Month', legend=False)\n",
    "_.set_ylabel(\"Natural Causes\")"
   ]
  },
  {
   "cell_type": "markdown",
   "metadata": {},
   "source": [
    "It appears that compared to our initial guess, suicides are actually more common in August (8) and September(9). What then, is driving the seasonal trend in deaths by natural causes?\n",
    "\n",
    "## Seasonal trends in natural causes\n",
    "\n",
    "To better understand what may drive the seasonal trend in natural deaths, we can use the cause of death binned into 39 fields [CauseRecode39](https://www.cdc.gov/nchs/data/dvs/Record_Layout_2014.pdf) to get a better idea of what types of deaths may vary with month. Most of the bins relate to natural causes such as Tuberculosis and Cardiovascular Disease, although vehicle accidents, murders, and suicides are also included. We use these to select the ICD-10 codes for the cause of death to narrow down the number of possible causes to the major causes of death. Unfortunately, there is no look up table for the rebinned death causes, so we must insert these manually with pandas.\n"
   ]
  },
  {
   "cell_type": "code",
   "execution_count": 17,
   "metadata": {
    "collapsed": false
   },
   "outputs": [
    {
     "data": {
      "text/plain": [
       "<matplotlib.legend.Legend at 0x210764096a0>"
      ]
     },
     "execution_count": 17,
     "metadata": {},
     "output_type": "execute_result"
    },
    {
     "data": {
      "image/png": "[encoded data removed]",
      "text/plain": [
       "<matplotlib.figure.Figure at 0x210774e3630>"
      ]
     },
     "metadata": {},
     "output_type": "display_data"
    }
   ],
   "source": [
    "%matplotlib inline\n",
    "\n",
    "# Build SQL query\n",
    "\n",
    "stmt = sqla.select([\n",
    "    tables[\"DeathRecords\"].c.MonthOfDeath.label('Month'),\n",
    "    tables[\"DeathRecords\"].c.CauseRecode39.label('Cause39Bin'),\n",
    "    tables[\"DeathRecords\"].c.Icd10Code.label(\"ICD-10\"),\n",
    "    tables[\"Icd10Code\"].c.Description.label('Cause'),\n",
    "    sqla.func.count(tables[\"DeathRecords\"].c.CauseRecode39).label('Deaths')\n",
    "                    ])\n",
    "\n",
    "# Select from table JOIN\n",
    "\n",
    "stmt = stmt.select_from(\n",
    "    tables[\"DeathRecords\"].join(tables[\"Icd10Code\"],\n",
    "                               tables[\"DeathRecords\"].c.Icd10Code == tables[\"Icd10Code\"].c.Code)\n",
    "                        )\n",
    "\n",
    "# Remove other causes\n",
    "\n",
    "stmt = stmt.where(tables[\"DeathRecords\"].c.CauseRecode39 != 42)\n",
    "\n",
    "# Group by Month and Cause39Bin\n",
    "\n",
    "stmt = stmt.group_by(tables[\"DeathRecords\"].c.MonthOfDeath, tables[\"DeathRecords\"].c.CauseRecode39)\n",
    "\n",
    "count = pd.read_sql_query(stmt, conn)\n",
    "\n",
    "#count_grouped = count.groupby(['Month', 'Cause39Bin'])['Deaths'].sum().unstack('Month')\n",
    "\n",
    "fig, ax = plt.subplots(1)\n",
    "\n",
    "count.plot.line(x = 'Month', ax = ax)\n",
    "\n",
    "ax.legend(loc='best')"
   ]
  },
  {
   "cell_type": "code",
   "execution_count": null,
   "metadata": {
    "collapsed": false
   },
   "outputs": [],
   "source": []
  },
  {
   "cell_type": "code",
   "execution_count": null,
   "metadata": {
    "collapsed": true
   },
   "outputs": [],
   "source": []
  }
 ],
 "metadata": {
  "kernelspec": {
   "display_name": "Python 3",
   "language": "python",
   "name": "python3"
  },
  "language_info": {
   "codemirror_mode": {
    "name": "ipython",
    "version": 3
   },
   "file_extension": ".py",
   "mimetype": "text/x-python",
   "name": "python",
   "nbconvert_exporter": "python",
   "pygments_lexer": "ipython3",
   "version": "3.6.0"
  }
 },
 "nbformat": 4,
 "nbformat_minor": 2
}
